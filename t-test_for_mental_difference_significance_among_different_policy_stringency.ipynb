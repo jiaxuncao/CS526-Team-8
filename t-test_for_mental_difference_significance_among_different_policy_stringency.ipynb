{
 "cells": [
  {
   "cell_type": "code",
   "execution_count": 1,
   "metadata": {},
   "outputs": [
    {
     "name": "stderr",
     "output_type": "stream",
     "text": [
      "C:\\Users\\20228\\AppData\\Local\\Temp\\ipykernel_9456\\3181079028.py:7: DtypeWarning: Columns (19,28,37,46,55,64,73,78,81,83,85,87,90,92,94,96,98,107,110,119,121,123,125,126,127,133,135) have mixed types. Specify dtype option on import or set low_memory=False.\n",
      "  df = pd.read_csv(file_path, encoding='latin1')\n"
     ]
    }
   ],
   "source": [
    "import pandas as pd\n",
    "\n",
    "# Load the dataset\n",
    "file_path = r\"C:\\Users\\20228\\Downloads\\merged_brfss_oxcgrt.csv\"\n",
    "output_file_path = r\"C:\\Users\\20228\\Downloads\\merged_brfss_oxcgrt_with_stringency.csv\"\n",
    "\n",
    "df = pd.read_csv(file_path, encoding='latin1')\n",
    "\n"
   ]
  },
  {
   "cell_type": "code",
   "execution_count": 2,
   "metadata": {},
   "outputs": [],
   "source": [
    "\n",
    "# Define variables related to stringency index\n",
    "variables_C = [\n",
    "    'C1M_School closing', 'C2E_Workplace.closing', 'C2M_Workplace closing',\n",
    "    'C3E_Cancel public events', 'C3M_Cancel public events',\n",
    "    'C4E_Restrictions on gatherings', 'C4M_Restrictions on gatherings',\n",
    "    'C5E_Close public transport', 'C5M_Close public transport',\n",
    "    'C6E_Stay at home requirements', 'C6M_Stay at home requirements',\n",
    "    'C7E_Restrictions on internal movement', 'C7M_Restrictions on internal movement',\n",
    "    'C8E_International travel controls', 'C8EV_International travel controls'\n",
    "]\n",
    "variables_H = [\n",
    "    'H1E_Public information campaigns', 'H2E_Testing policy', 'H3E_Contact tracing',\n",
    "    'H4E_Emergency investment in healthcare', 'H5E_Investment in vaccines',\n",
    "    'H6E_Facial Coverings', 'H6M_Facial Coverings', 'H7E_Vaccination policy',\n",
    "    'H8E_Protection of elderly people', 'H8M_Protection of elderly people'\n",
    "]\n",
    "variables_E = [\n",
    "    'E1E_Income support', 'E2E_Debt/contract relief', \n",
    "    'E3E_Fiscal measures', 'E4E_International support'\n",
    "]\n",
    "\n",
    "# Combine all stringency-related columns\n",
    "stringency_cols = variables_C + variables_H + variables_E\n",
    "stringency_cols = [col.replace(' ', '.').replace('/', '.') for col in stringency_cols]\n",
    "\n",
    "# Ensure only existing columns are used for calculation\n",
    "existing_cols = [col for col in stringency_cols if col in df.columns]\n",
    "\n",
    "# Calculate stringency index\n",
    "df['stringency_index'] = df[existing_cols].sum(axis=1, skipna=True)\n",
    "\n",
    "# Categorize states by policy stringency\n",
    "df['policy_category'] = pd.cut(\n",
    "    df['stringency_index'],\n",
    "    bins=[-float('inf'), 30, 60, float('inf')],\n",
    "    labels=['Low Restriction', 'Moderate Restriction', 'High Restriction']\n",
    ")"
   ]
  },
  {
   "cell_type": "code",
   "execution_count": 4,
   "metadata": {},
   "outputs": [
    {
     "name": "stdout",
     "output_type": "stream",
     "text": [
      "0         36.0\n",
      "1         36.0\n",
      "2         36.0\n",
      "3         36.0\n",
      "4         36.0\n",
      "          ... \n",
      "380624    48.0\n",
      "380625    48.0\n",
      "380626    48.0\n",
      "380627    48.0\n",
      "380628    48.0\n",
      "Name: stringency_index, Length: 380629, dtype: float64\n"
     ]
    }
   ],
   "source": [
    "print (df['stringency_index'])"
   ]
  },
  {
   "cell_type": "code",
   "execution_count": 5,
   "metadata": {},
   "outputs": [
    {
     "name": "stdout",
     "output_type": "stream",
     "text": [
      "File saved with stringency index and policy categories at: C:\\Users\\20228\\Downloads\\merged_brfss_oxcgrt_with_stringency.csv\n"
     ]
    }
   ],
   "source": [
    "\n",
    "# Save the modified dataset to a new file\n",
    "df.to_csv(output_file_path, index=False)\n",
    "\n",
    "print(f\"File saved with stringency index and policy categories at: {output_file_path}\")\n"
   ]
  },
  {
   "cell_type": "code",
   "execution_count": 6,
   "metadata": {},
   "outputs": [
    {
     "name": "stderr",
     "output_type": "stream",
     "text": [
      "C:\\Users\\20228\\AppData\\Local\\Temp\\ipykernel_27480\\3044312854.py:6: DtypeWarning: Columns (19,28,37,46,55,64,73,78,81,83,85,87,90,92,94,96,98,107,110,119,121,123,125,126,127,133,135) have mixed types. Specify dtype option on import or set low_memory=False.\n",
      "  df = pd.read_csv(file_path)\n"
     ]
    },
    {
     "name": "stdout",
     "output_type": "stream",
     "text": [
      "Low vs Moderate:\n",
      "  t-statistic: -11.7372\n",
      "  p-value: 0.0000\n",
      "\n",
      "Low vs High:\n",
      "  t-statistic: -1.3865\n",
      "  p-value: 0.1657\n",
      "\n",
      "Moderate vs High:\n",
      "  t-statistic: 0.8550\n",
      "  p-value: 0.3926\n",
      "\n"
     ]
    }
   ],
   "source": [
    "import pandas as pd\n",
    "from scipy.stats import ttest_ind\n",
    "\n",
    "# Load the dataset\n",
    "file_path = r\"C:\\Users\\20228\\Downloads\\merged_brfss_oxcgrt_with_stringency.csv\"\n",
    "df = pd.read_csv(file_path)\n",
    "\n",
    "# Ensure necessary columns exist\n",
    "if 'policy_category' not in df.columns or 'X_MENT14D' not in df.columns:\n",
    "    raise ValueError(\"The required columns 'policy_category' or 'X_MENT14D' are missing.\")\n",
    "\n",
    "# Drop rows with NaN values in relevant columns\n",
    "df = df.dropna(subset=['policy_category', 'X_MENT14D'])\n",
    "\n",
    "# Group data by stringency levels\n",
    "low_restriction = df[df['policy_category'] == 'Low Restriction']['X_MENT14D']\n",
    "moderate_restriction = df[df['policy_category'] == 'Moderate Restriction']['X_MENT14D']\n",
    "high_restriction = df[df['policy_category'] == 'High Restriction']['X_MENT14D']\n",
    "\n",
    "# Perform t-tests\n",
    "results = {\n",
    "    \"Low vs Moderate\": ttest_ind(low_restriction, moderate_restriction, equal_var=False),\n",
    "    \"Low vs High\": ttest_ind(low_restriction, high_restriction, equal_var=False),\n",
    "    \"Moderate vs High\": ttest_ind(moderate_restriction, high_restriction, equal_var=False)\n",
    "}\n",
    "\n",
    "# Format results for display\n",
    "formatted_results = {\n",
    "    comparison: {\n",
    "        \"t-statistic\": res.statistic,\n",
    "        \"p-value\": res.pvalue\n",
    "    }\n",
    "    for comparison, res in results.items()\n",
    "}\n",
    "\n",
    "# Output the results\n",
    "for comparison, stats in formatted_results.items():\n",
    "    print(f\"{comparison}:\")\n",
    "    print(f\"  t-statistic: {stats['t-statistic']:.4f}\")\n",
    "    print(f\"  p-value: {stats['p-value']:.4f}\")\n",
    "    print()\n"
   ]
  },
  {
   "cell_type": "code",
   "execution_count": 11,
   "metadata": {},
   "outputs": [
    {
     "name": "stderr",
     "output_type": "stream",
     "text": [
      "C:\\Users\\20228\\AppData\\Local\\Temp\\ipykernel_27480\\1437151027.py:8: DtypeWarning: Columns (19,28,37,46,55,64,73,78,81,83,85,87,90,92,94,96,98,107,110,119,121,123,125,126,127,133,135) have mixed types. Specify dtype option on import or set low_memory=False.\n",
      "  df = pd.read_csv(file_path)\n"
     ]
    },
    {
     "data": {
      "image/png": "[encoded data removed]",
      "text/plain": [
       "<Figure size 1000x600 with 1 Axes>"
      ]
     },
     "metadata": {},
     "output_type": "display_data"
    }
   ],
   "source": [
    "import pandas as pd\n",
    "import matplotlib.pyplot as plt\n",
    "import seaborn as sns\n",
    "from scipy.stats import ttest_ind\n",
    "\n",
    "# Load the dataset\n",
    "file_path = r\"C:\\Users\\20228\\Downloads\\merged_brfss_oxcgrt_with_stringency.csv\"\n",
    "df = pd.read_csv(file_path)\n",
    "\n",
    "# Ensure necessary columns exist\n",
    "if 'policy_category' not in df.columns or 'X_MENT14D' not in df.columns:\n",
    "    raise ValueError(\"The required columns 'policy_category' or 'X_MENT14D' are missing.\")\n",
    "\n",
    "# Drop rows with NaN values in relevant columns\n",
    "df = df.dropna(subset=['policy_category', 'X_MENT14D'])\n",
    "\n",
    "# Group data by stringency levels\n",
    "low_restriction = df[df['policy_category'] == 'Low Restriction']['X_MENT14D']\n",
    "moderate_restriction = df[df['policy_category'] == 'Moderate Restriction']['X_MENT14D']\n",
    "high_restriction = df[df['policy_category'] == 'High Restriction']['X_MENT14D']\n",
    "\n",
    "# Perform t-tests\n",
    "t1, p1 = ttest_ind(low_restriction, moderate_restriction, equal_var=False)\n",
    "t2, p2 = ttest_ind(low_restriction, high_restriction, equal_var=False)\n",
    "t3, p3 = ttest_ind(moderate_restriction, high_restriction, equal_var=False)\n",
    "\n",
    "# Annotate significance based on p-value\n",
    "def get_significance_label(p):\n",
    "    if p < 0.001:\n",
    "        return '***'\n",
    "    elif p < 0.01:\n",
    "        return '**'\n",
    "    elif p < 0.05:\n",
    "        return '*'\n",
    "    else:\n",
    "        return 'ns'  # Not significant\n",
    "\n",
    "# Plotting\n",
    "plt.figure(figsize=(10, 6))\n",
    "ax = sns.boxplot(x='policy_category', y='X_MENT14D', data=df, palette=\"Set3\")\n",
    "\n",
    "# Add statistical annotations manually\n",
    "x1, x2 = 0, 1\n",
    "y, h = df['X_MENT14D'].max() + 1, 1  # Height of annotations\n",
    "plt.plot([x1, x1, x2, x2], [y, y + h, y + h, y], lw=1.5, c='black')\n",
    "plt.text((x1 + x2) * 0.5, y + h, get_significance_label(p1), ha='center', va='bottom')\n",
    "\n",
    "x1, x2 = 0, 2\n",
    "y = y + 2\n",
    "plt.plot([x1, x1, x2, x2], [y, y + h, y + h, y], lw=1.5, c='black')\n",
    "plt.text((x1 + x2) * 0.5, y + h, get_significance_label(p2), ha='center', va='bottom')\n",
    "\n",
    "x1, x2 = 1, 2\n",
    "y = y + 2\n",
    "plt.plot([x1, x1, x2, x2], [y, y + h, y + h, y], lw=1.5, c='black')\n",
    "plt.text((x1 + x2) * 0.5, y + h, get_significance_label(p3), ha='center', va='bottom')\n",
    "\n",
    "# Customize the plot\n",
    "plt.title(\"Mental Health Scores by Policy Restriction Level with Statistical Significance\")\n",
    "plt.xlabel(\"Policy Restriction Level\")\n",
    "plt.ylabel(\"Mental Health Score (X_MENT14D)\")\n",
    "\n",
    "# Save the plot\n",
    "output_plot_path = r\"C:\\Users\\20228\\Downloads\\mental_health_significance_plot_manual.png\"\n",
    "plt.savefig(output_plot_path, dpi=300, bbox_inches='tight')\n",
    "\n",
    "plt.show()\n"
   ]
  }
 ],
 "metadata": {
  "kernelspec": {
   "display_name": "base",
   "language": "python",
   "name": "python3"
  },
  "language_info": {
   "codemirror_mode": {
    "name": "ipython",
    "version": 3
   },
   "file_extension": ".py",
   "mimetype": "text/x-python",
   "name": "python",
   "nbconvert_exporter": "python",
   "pygments_lexer": "ipython3",
   "version": "3.9.13"
  }
 },
 "nbformat": 4,
 "nbformat_minor": 2
}
